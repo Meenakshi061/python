{
 "cells": [
  {
   "cell_type": "code",
   "execution_count": 1,
   "metadata": {},
   "outputs": [
    {
     "name": "stdout",
     "output_type": "stream",
     "text": [
      "{'a': 1, 'b': 2, 'c': 3}\n"
     ]
    }
   ],
   "source": [
    " #Write a lambda function to merge two lists into a dictionary where\n",
    "#one list represents keys and the other represents values\n",
    "keys = ['a', 'b', 'c']\n",
    "values = [1, 2, 3]\n",
    "merge_dict = lambda k, v: dict(zip(k, v))\n",
    "print(merge_dict(keys, values))"
   ]
  },
  {
   "cell_type": "code",
   "execution_count": 8,
   "metadata": {},
   "outputs": [
    {
     "name": "stdout",
     "output_type": "stream",
     "text": [
      "900.0\n"
     ]
    }
   ],
   "source": [
    "# Create a class Product with instance variables name and price. Also,\n",
    "#add a class variable discount_rate and a method to calculate the\n",
    "#discounted price.\n",
    "class Product:\n",
    "    discount_rate = 0.1  # Class variable\n",
    "\n",
    "    def __init__(self, name, price):\n",
    "        self.name = name\n",
    "        self.price = price\n",
    "\n",
    "    def discounted_price(self):\n",
    "        return self.price * (1 - Product.discount_rate)\n",
    "\n",
    "product = Product(\"Laptop\", 1000)\n",
    "print(product.discounted_price())"
   ]
  },
  {
   "cell_type": "code",
   "execution_count": 4,
   "metadata": {},
   "outputs": [
    {
     "name": "stdout",
     "output_type": "stream",
     "text": [
      "78.5\n",
      "24\n"
     ]
    }
   ],
   "source": [
    "# Create a base class Shape with a method area(). Derive two\n",
    "#subclasses Circle and Rectangle, each implementing their own area()\n",
    "#method. (INHERITANCE)\n",
    "class Shape:\n",
    "    def area(self):\n",
    "        pass\n",
    "\n",
    "class Circle(Shape):\n",
    "    def __init__(self, radius):\n",
    "        self.radius = radius\n",
    "    \n",
    "    def area(self):\n",
    "        return 3.14 * self.radius ** 2\n",
    "class Rectangle(Shape):\n",
    "    def __init__(self, length, width):\n",
    "        self.length = length\n",
    "        self.width = width\n",
    "    \n",
    "    def area(self):\n",
    "        return self.length * self.width\n",
    "circle = Circle(5)\n",
    "rectangle = Rectangle(4, 6)\n",
    "print(circle.area())\n",
    "print(rectangle.area())        "
   ]
  },
  {
   "cell_type": "code",
   "execution_count": 5,
   "metadata": {},
   "outputs": [
    {
     "name": "stdout",
     "output_type": "stream",
     "text": [
      "Alice 70000 Sales\n"
     ]
    }
   ],
   "source": [
    "#Create two base classes Person and Employee, and derive a class\n",
    "#Manager from both. (MULTIPLE INHERITANCE)\n",
    "class Person:\n",
    "    def __init__(self, name):\n",
    "        self.name = name\n",
    "\n",
    "class Employee:\n",
    "    def __init__(self, salary):\n",
    "        self.salary = salary\n",
    "\n",
    "class Manager(Person, Employee):\n",
    "    def __init__(self, name, salary, department):\n",
    "        Person.__init__(self, name)\n",
    "        Employee.__init__(self, salary)\n",
    "        self.department = department\n",
    "manager = Manager(\"Alice\", 70000, \"Sales\")\n",
    "print(manager.name, manager.salary, manager.department)        "
   ]
  },
  {
   "cell_type": "code",
   "execution_count": 6,
   "metadata": {},
   "outputs": [
    {
     "name": "stdout",
     "output_type": "stream",
     "text": [
      "Woof!\n",
      "Meow!\n",
      "Moo!\n"
     ]
    }
   ],
   "source": [
    "#Implement a function play_sound() that accepts different animal\n",
    "#objects (Dog, Cat, Cow) and calls their make_sound() method\n",
    "#dynamically. (POLYMORPHISM)\n",
    "class Animal:\n",
    "    def make_sound(self):\n",
    "        pass\n",
    "\n",
    "class Dog(Animal):\n",
    "    def make_sound(self):\n",
    "        return \"Woof!\"\n",
    "\n",
    "class Cat(Animal):\n",
    "    def make_sound(self):\n",
    "        return \"Meow!\"\n",
    "class Cow(Animal):\n",
    "    def make_sound(self):\n",
    "        return \"Moo!\"\n",
    "\n",
    "def play_sound(animal):\n",
    "    print(animal.make_sound())\n",
    "\n",
    "play_sound(Dog())\n",
    "play_sound(Cat())\n",
    "play_sound(Cow())    "
   ]
  },
  {
   "cell_type": "code",
   "execution_count": 7,
   "metadata": {},
   "outputs": [
    {
     "name": "stdout",
     "output_type": "stream",
     "text": [
      "150\n",
      "60\n"
     ]
    }
   ],
   "source": [
    "#Design a Car Rental System using Object-Oriented Programming\n",
    "#(OOP) in Python. The system should include a Vehicle class and\n",
    "#derived classes Car and Bike. Implement constructors and use\n",
    "#inheritance to manage common and specific attributes\n",
    "class Vehicle:\n",
    "    def __init__(self, make, model, price_per_day):\n",
    "        self.make = make\n",
    "        self.model = model\n",
    "        self.price_per_day = price_per_day\n",
    "\n",
    "    def rental_price(self, days):\n",
    "        return self.price_per_day * days\n",
    "\n",
    "class Car(Vehicle):\n",
    "    def __init__(self, make, model, price_per_day, car_type):\n",
    "        super().__init__(make, model, price_per_day)\n",
    "        self.car_type = car_type\n",
    "class Bike(Vehicle):\n",
    "    def __init__(self, make, model, price_per_day, bike_type):\n",
    "        super().__init__(make, model, price_per_day)\n",
    "        self.bike_type = bike_type\n",
    "\n",
    "car = Car(\"Toyota\", \"Camry\", 50, \"Sedan\")\n",
    "bike = Bike(\"Yamaha\", \"MT-09\", 20, \"Sport\")\n",
    "print(car.rental_price(3))\n",
    "print(bike.rental_price(3))      "
   ]
  }
 ],
 "metadata": {
  "kernelspec": {
   "display_name": "Python 3",
   "language": "python",
   "name": "python3"
  },
  "language_info": {
   "codemirror_mode": {
    "name": "ipython",
    "version": 3
   },
   "file_extension": ".py",
   "mimetype": "text/x-python",
   "name": "python",
   "nbconvert_exporter": "python",
   "pygments_lexer": "ipython3",
   "version": "3.12.9"
  }
 },
 "nbformat": 4,
 "nbformat_minor": 2
}
