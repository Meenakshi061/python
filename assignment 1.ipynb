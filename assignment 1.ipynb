{
 "cells": [
  {
   "cell_type": "code",
   "execution_count": 10,
   "metadata": {},
   "outputs": [
    {
     "name": "stdout",
     "output_type": "stream",
     "text": [
      "Fail\n"
     ]
    }
   ],
   "source": [
    "# Write a program that asks the user to enter their marks and displays their grade: • 90-100: A • 80-89: B • 70-79:C • 60-69: D Below 60: F \n",
    "marks = int(input(\"Enter the marks: \"))\n",
    "if (90 <= marks <= 100): \n",
    "    print(\"A\")\n",
    "elif( 80 <= marks < 90):\n",
    "    print(\"B\")\n",
    "elif( 70 <= marks < 80):\n",
    "    print(\"C\")\n",
    "elif( 60 <= marks < 70): \n",
    "    print(\"D\")\n",
    "else:\n",
    "    print(\"Fail\")"
   ]
  },
  {
   "cell_type": "code",
   "execution_count": 11,
   "metadata": {},
   "outputs": [
    {
     "name": "stdout",
     "output_type": "stream",
     "text": [
      "2024 is a leap year.\n"
     ]
    }
   ],
   "source": [
    "# Write a Python program to check if a given year is a leap year or not. \n",
    "def is_leap_year(year):\n",
    "    if year % 400 == 0:\n",
    "        return True\n",
    "    elif year % 100 == 0:\n",
    "        return False\n",
    "    elif year % 4 == 0:\n",
    "        return True\n",
    "    else:\n",
    "        return False\n",
    "year = int(input(\"Enter a year: \"))\n",
    "if is_leap_year(year):\n",
    "    print(f\"{year} is a leap year.\")\n",
    "else:\n",
    "    print(f\"{year} is not a leap year.\")"
   ]
  },
  {
   "cell_type": "code",
   "execution_count": 12,
   "metadata": {},
   "outputs": [
    {
     "name": "stdout",
     "output_type": "stream",
     "text": [
      "15\n"
     ]
    }
   ],
   "source": [
    "# Take a number and use the += operator to increase its value\n",
    "a=10\n",
    "a+=5 \n",
    "print(a)"
   ]
  },
  {
   "cell_type": "code",
   "execution_count": 16,
   "metadata": {},
   "outputs": [
    {
     "name": "stdout",
     "output_type": "stream",
     "text": [
      "7.5\n",
      "10.0\n",
      "123\n",
      "Hello\n",
      "['H', 'e', 'l', 'l', 'o']\n",
      "[1, 2, 3]\n",
      "(1, 2, 3)\n"
     ]
    }
   ],
   "source": [
    "\n",
    "# Explain how Python handles type conversion between different data types, such as between integers and floats or between strings and lists. Python handles type conversion in two ways:\n",
    "\n",
    "# Implicit Type Conversion (Automatic) Python automatically converts one data type into another when it makes sense mathematically or logically.\n",
    "\n",
    "\n",
    "x = 5      # Integer\n",
    "y = 2.5    # Float\n",
    "result = x + y  # x is implicitly converted to float\n",
    "print(result)   \n",
    "\n",
    "\n",
    "### *2. Explicit Type Conversion (Type Casting)*\n",
    "#If Python does not automatically convert data types, you can use built-in functions to convert types manually.\n",
    "\n",
    "#### *Common Type Conversion Functions*\n",
    "#| Function  | Converts To \n",
    "# int(x)  | Integer    |\n",
    "# float(x) | Float     |\n",
    "# str(x)  | String     |\n",
    "# list(x) | List       |\n",
    " #tuple(x) | Tuple     |\n",
    " #set(x)  | Set       |\n",
    "# dict(x) | Dictionary (from key-value pairs) |\n",
    "\n",
    "#### *Examples:*\n",
    "\n",
    "##### *Integer to Float Conversion*\n",
    "num = 10\n",
    "converted_num = float(num)\n",
    "print(converted_num)  # Output: 10.0\n",
    "#String to Integer Conversion\n",
    "s = \"123\"\n",
    "num = int(s)\n",
    "print(num)  # Output: 123\n",
    "\n",
    "#List to String Conversion\n",
    "lst = ['H', 'e', 'l', 'l', 'o']\n",
    "s = ''.join(lst)  # Joins list elements into a string\n",
    "print(s)  # Output: Hello\n",
    "#String to List Conversion\n",
    "s = \"Hello\"\n",
    "lst = list(s)\n",
    "print(lst)  # Output: ['H', 'e', 'l', 'l', 'o']\n",
    "#Tuple to List Conversion\n",
    "tup = (1, 2, 3)\n",
    "lst = list(tup)\n",
    "print(lst)  # Output: [1, 2, 3]\n",
    "#List to Tuple Conversion\n",
    "lst = [1, 2, 3]\n",
    "tup = tuple(lst)\n",
    "print(tup)  "
   ]
  },
  {
   "cell_type": "code",
   "execution_count": 17,
   "metadata": {},
   "outputs": [],
   "source": [
    "\n",
    "# How do lists and tuples differ in terms of mutability performance? When would you choose one over the other?\n",
    "\n",
    "#Mutability: Lists vs. Tuples\n",
    "#Lists are mutable, meaning you can modify, add, or remove elements after creation.\n",
    "#Tuples are immutable, meaning once created, they cannot be changed (no adding, removing, or modifying elements).\n",
    "\n",
    "# Performance: Lists vs. Tuples\n",
    "#Tuples are faster than lists because they are immutable and do not require dynamic memory allocation.\n",
    "#ists are slower because they support operations like appending, inserting, and"
   ]
  },
  {
   "cell_type": "code",
   "execution_count": null,
   "metadata": {},
   "outputs": [],
   "source": []
  },
  {
   "cell_type": "code",
   "execution_count": null,
   "metadata": {},
   "outputs": [],
   "source": []
  },
  {
   "cell_type": "code",
   "execution_count": null,
   "metadata": {},
   "outputs": [],
   "source": []
  },
  {
   "cell_type": "code",
   "execution_count": null,
   "metadata": {},
   "outputs": [],
   "source": []
  },
  {
   "cell_type": "code",
   "execution_count": null,
   "metadata": {},
   "outputs": [],
   "source": []
  },
  {
   "cell_type": "code",
   "execution_count": null,
   "metadata": {},
   "outputs": [],
   "source": []
  },
  {
   "cell_type": "code",
   "execution_count": null,
   "metadata": {},
   "outputs": [],
   "source": []
  },
  {
   "cell_type": "code",
   "execution_count": null,
   "metadata": {},
   "outputs": [],
   "source": []
  },
  {
   "cell_type": "code",
   "execution_count": null,
   "metadata": {},
   "outputs": [],
   "source": []
  },
  {
   "cell_type": "code",
   "execution_count": null,
   "metadata": {},
   "outputs": [],
   "source": []
  }
 ],
 "metadata": {
  "kernelspec": {
   "display_name": "Python 3",
   "language": "python",
   "name": "python3"
  },
  "language_info": {
   "codemirror_mode": {
    "name": "ipython",
    "version": 3
   },
   "file_extension": ".py",
   "mimetype": "text/x-python",
   "name": "python",
   "nbconvert_exporter": "python",
   "pygments_lexer": "ipython3",
   "version": "3.12.9"
  }
 },
 "nbformat": 4,
 "nbformat_minor": 2
}
