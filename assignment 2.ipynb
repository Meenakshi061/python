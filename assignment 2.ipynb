{
 "cells": [
  {
   "cell_type": "code",
   "execution_count": 1,
   "metadata": {},
   "outputs": [
    {
     "name": "stdout",
     "output_type": "stream",
     "text": [
      "1 \n",
      "1 1 \n",
      "1 2 1 \n",
      "1 3 3 1 \n",
      "1 4 6 4 1 \n"
     ]
    }
   ],
   "source": [
    "#Write a function pascals_triangle(rows) that prints the first rows of\n",
    "#ascal's Triangle using nested for loops.\n",
    "def pascals_triangle(rows):\n",
    "    for i in range(rows):\n",
    "        num = 1  \n",
    "        for j in range(i + 1):\n",
    "            print(num, end=\" \")  # Print the number with a space\n",
    "            num = num * (i - j) // (j + 1)  # Compute next value using nCr formula\n",
    "        print()  \n",
    "\n",
    "\n",
    "pascals_triangle(5)"
   ]
  },
  {
   "cell_type": "code",
   "execution_count": 2,
   "metadata": {},
   "outputs": [
    {
     "name": "stdout",
     "output_type": "stream",
     "text": [
      "15\n",
      "33\n",
      "45\n",
      "60\n",
      "75\n"
     ]
    }
   ],
   "source": [
    "#Explain how the continue statement works in a loop. What are some\n",
    "#scenarios where using`continue` is more beneficial than restructuring\n",
    "#the loop?\n",
    "\n",
    "#Coding Challenge: Write a Python program that iterates through list\n",
    "\n",
    "#f numbers and prints only those numbers that are divisible by 3, using\n",
    "#the continue statement.\n",
    "numbers = [10, 15, 22, 33, 40, 45, 50, 60, 75, 80]\n",
    "\n",
    "for num in numbers:\n",
    "    if num % 3 != 0:  # If the number is NOT divisible by 3\n",
    "        continue  # Skip this number and move to the next iteration\n",
    "    print(num)  # Print only numbers divisible by 3"
   ]
  },
  {
   "cell_type": "code",
   "execution_count": 3,
   "metadata": {},
   "outputs": [
    {
     "name": "stdout",
     "output_type": "stream",
     "text": [
      "(2, 4, 6)\n",
      "(2, 12, 10)\n",
      "(2, 24, 14)\n",
      "(2, 40, 18)\n",
      "(2, 60, 22)\n",
      "(2, 84, 26)\n",
      "(2, 112, 30)\n",
      "(2, 144, 34)\n",
      "(4, 6, 8)\n",
      "(4, 16, 12)\n",
      "(4, 30, 16)\n",
      "(4, 48, 20)\n",
      "(4, 70, 24)\n",
      "(4, 96, 28)\n",
      "(4, 126, 32)\n",
      "(6, 8, 10)\n",
      "(6, 20, 14)\n",
      "(6, 36, 18)\n",
      "(6, 56, 22)\n",
      "(6, 80, 26)\n",
      "(6, 108, 30)\n",
      "(8, 10, 12)\n",
      "(8, 24, 16)\n",
      "(8, 42, 20)\n",
      "(8, 64, 24)\n",
      "(8, 90, 28)\n",
      "(10, 12, 14)\n",
      "(10, 28, 18)\n",
      "(10, 48, 22)\n",
      "(10, 72, 26)\n",
      "(12, 14, 16)\n",
      "(12, 32, 20)\n",
      "(12, 54, 24)\n",
      "(14, 16, 18)\n",
      "(14, 36, 22)\n",
      "(16, 18, 20)\n"
     ]
    }
   ],
   "source": [
    "# Use list comprehension to generate all Pythagorean triplets (a, b, c)\n",
    "#where a2 + b2 = c² and a, b, c s 50.\n",
    "triplets = []\n",
    "\n",
    "for m in range(1, 10):  # Choose an appropriate range for m\n",
    "    for n in range(1, m):  # n should always be less than m\n",
    "        a = m*2 - n*2\n",
    "        b = 2 * m * n\n",
    "        c = m*2 + n*2\n",
    "\n",
    "        if c <= 50:  # Limit c to 50\n",
    "            triplets.append((a, b, c))\n",
    "\n",
    "# Sort and print the triplets\n",
    "triplets.sort()\n",
    "for triplet in triplets:\n",
    "    print(triplet)"
   ]
  },
  {
   "cell_type": "code",
   "execution_count": 10,
   "metadata": {},
   "outputs": [],
   "source": [
    "# Write a function max_consecutive_sum(nums, k) that finds the\n",
    "#maximum sum of k consecutive elements in a list.\n",
    "def max_consecutive_sum(nums, k):\n",
    "    if len(nums) < k or k <= 0:  # Edge case handling\n",
    "          return None  \n",
    "\n",
    "    # Compute the sum of the first window of size k\n",
    "    max_sum = current_sum = sum(nums[k])\n",
    "\n",
    "    # Slide the window across the list\n",
    "    for i in range(k, len(nums)):\n",
    "        current_sum += nums[i] - nums[i - k]  # Add next element, remove first element of previous window\n",
    "        max_sum = max(max_sum, current_sum)  # Update max sum if needed\n",
    "\n",
    "    return max_sum\n",
    "\n",
    "# Example Usage\n",
    "nums = [2, 1, 5, 1, 3, 2, 8, 1, 9]\n",
    "k = 3"
   ]
  },
  {
   "cell_type": "code",
   "execution_count": 11,
   "metadata": {},
   "outputs": [
    {
     "name": "stdout",
     "output_type": "stream",
     "text": [
      "Before function call: [1, 2, 3]\n",
      "Inside function: [1, 2, 3, 'new item']\n",
      "After function call: [1, 2, 3, 'new item']\n"
     ]
    }
   ],
   "source": [
    "# Write a function that takes a list as an argument and modifies it by\n",
    "#appending a new item. Demonstrate how changes to the list inside the\n",
    "#function affect the list outside the function.\n",
    "def modify_list(my_list):\n",
    "    my_list.append(\"new item\")  # Append an item to the list\n",
    "    print(\"Inside function:\", my_list)  # Check the modified list inside the function\n",
    "\n",
    "# Example usage\n",
    "original_list = [1, 2, 3]\n",
    "print(\"Before function call:\", original_list)\n",
    "\n",
    "modify_list(original_list)  # Pass the list to the function\n",
    "\n",
    "print(\"After function call:\", original_list)  # The original list is modified"
   ]
  },
  {
   "cell_type": "code",
   "execution_count": 12,
   "metadata": {},
   "outputs": [
    {
     "name": "stdout",
     "output_type": "stream",
     "text": [
      "Fibonacci sequence: [0, 1, 1, 2, 3, 5, 8, 13, 21, 34, 55, 89, 144, 233, 377, 610, 987, 1597, 2584, 4181, 6765, 10946, 17711, 28657, 46368, 75025, 121393, 196418, 317811, 514229, 832040, 1346269, 2178309, 3524578, 5702887, 9227465, 14930352, 24157817, 39088169, 63245986, 102334155, 165580141, 267914296, 433494437, 701408733, 1134903170, 1836311903, 2971215073, 4807526976, 7778742049, 12586269025, 20365011074, 32951280099, 53316291173, 86267571272, 139583862445, 225851433717]\n"
     ]
    }
   ],
   "source": [
    "#Take a number as input and print the Fibonacci sequence up to that\n",
    "#many terms using User-defined functions.\n",
    "# Function to generate Fibonacci sequence up to n terms\n",
    "def fibonacci_sequence(n):\n",
    "    # First two terms of the Fibonacci sequence\n",
    "    fib_sequence = []\n",
    "    \n",
    "    # Handle cases where the user inputs 0 or 1\n",
    "    if n <= 0:\n",
    "        return \"Please enter a positive integer.\"\n",
    "    elif n == 1:\n",
    "        return [0]\n",
    "    elif n == 2:\n",
    "        return [0, 1]\n",
    "    \n",
    "    # Start with the first two numbers in the Fibonacci sequence\n",
    "    fib_sequence.append(0)\n",
    "    fib_sequence.append(1)\n",
    "\n",
    "    # Generate the Fibonacci sequence up to n terms\n",
    "    for i in range(2, n):\n",
    "        next_term = fib_sequence[i - 1] + fib_sequence[i - 2]\n",
    "        fib_sequence.append(next_term)\n",
    "    \n",
    "    return fib_sequence\n",
    "\n",
    "# Input from the user\n",
    "n = int(input(\"Enter the number of terms: \"))\n",
    "\n",
    "# Get the Fibonacci sequence and print it\n",
    "fib_sequence = fibonacci_sequence(n)\n",
    "print(\"Fibonacci sequence:\", fib_sequence)\n"
   ]
  },
  {
   "cell_type": "code",
   "execution_count": null,
   "metadata": {},
   "outputs": [],
   "source": []
  },
  {
   "cell_type": "code",
   "execution_count": null,
   "metadata": {},
   "outputs": [],
   "source": []
  },
  {
   "cell_type": "code",
   "execution_count": null,
   "metadata": {},
   "outputs": [],
   "source": []
  },
  {
   "cell_type": "code",
   "execution_count": null,
   "metadata": {},
   "outputs": [],
   "source": []
  }
 ],
 "metadata": {
  "kernelspec": {
   "display_name": "Python 3",
   "language": "python",
   "name": "python3"
  },
  "language_info": {
   "codemirror_mode": {
    "name": "ipython",
    "version": 3
   },
   "file_extension": ".py",
   "mimetype": "text/x-python",
   "name": "python",
   "nbconvert_exporter": "python",
   "pygments_lexer": "ipython3",
   "version": "3.12.9"
  }
 },
 "nbformat": 4,
 "nbformat_minor": 2
}
